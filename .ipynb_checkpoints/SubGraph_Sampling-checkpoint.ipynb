{
 "cells": [
  {
   "cell_type": "code",
   "execution_count": 1,
   "id": "2e216df8-8ccd-4f76-a88a-5985ee1c0c0d",
   "metadata": {},
   "outputs": [],
   "source": [
    "import argparse\n",
    "import torch\n",
    "#from sheaffmtl import run_dig_sheaf_fmtl, run_ana_sheaf_fmtl\n",
    "#from utils import read_vehicle_data, read_school_data, read_har_data, read_gleam_data, count_model_parameters, MultinomialLogisticRegression, LinearRegression, generate_random_adjacency_matrix, cross_entropy_loss_with_l2, mse_loss_with_l2, TwoSectionH, seq_scheduling\n",
    "import torch.nn as nn\n",
    "import numpy as np\n",
    "import networkx as nx\n",
    "from scipy.linalg import hadamard\n",
    "import matplotlib.pyplot as plt"
   ]
  },
  {
   "cell_type": "code",
   "execution_count": 2,
   "id": "953eeee6-e80c-41e0-b3e8-d79d73d19e61",
   "metadata": {},
   "outputs": [],
   "source": [
    "def generate_random_adjacency_matrix(n, edge_probability=0.2, seed=42):\n",
    "    while True:\n",
    "        g = nx.generators.random_graphs.binomial_graph(n, edge_probability, seed=seed)\n",
    "        if nx.is_connected(g):\n",
    "            return nx.adjacency_matrix(g).toarray()"
   ]
  },
  {
   "cell_type": "code",
   "execution_count": 3,
   "id": "eecf3dc0-55c5-4795-b12f-5d915fcb0c3b",
   "metadata": {},
   "outputs": [
    {
     "name": "stdout",
     "output_type": "stream",
     "text": [
      "Number of clients 30\n"
     ]
    }
   ],
   "source": [
    "num_clients = 30\n",
    "print(f\"Number of clients {num_clients}\")\n",
    "#print(f\"Number of features {client_train_datasets[0][0][0].shape}\")\n",
    "\n",
    "adjacency_matrix = generate_random_adjacency_matrix(num_clients)\n",
    "neighbors = [np.nonzero(adjacency_matrix[i])[0].tolist() for i in range(num_clients)]\n",
    "G = nx.from_numpy_array(adjacency_matrix)"
   ]
  },
  {
   "cell_type": "code",
   "execution_count": 4,
   "id": "b9c8c076-f445-4b54-94be-fa50cab3c09b",
   "metadata": {},
   "outputs": [],
   "source": [
    "def dig_comp_level(G, CG, N, Chi, barP, N0 = 10 ** (-169/10) * 1e-3, b = 64, d = 7850):\n",
    "    K = CG.shape[0]\n",
    "    m_array = [int( N / Chi * np.log2(1 + barP * Chi / N0 * min(CG[i,[j for j in G[i]]]))) for i in range(K)]\n",
    "    m_array = np.ceil(np.maximum(np.minimum(np.array(m_array) / b, d), 1))\n",
    "\n",
    "    return m_array"
   ]
  },
  {
   "cell_type": "code",
   "execution_count": 5,
   "id": "b4d4e777-dfdd-474d-a183-1e135f0e33dd",
   "metadata": {},
   "outputs": [],
   "source": [
    "num_clients = 30\n",
    "adjacency_matrix = generate_random_adjacency_matrix(num_clients)\n",
    "G = nx.from_numpy_array(adjacency_matrix)\n",
    "neighbors = [np.nonzero(adjacency_matrix[i])[0].tolist() for i in range(num_clients)]\n",
    "color_dict = {\n",
    "    0: 'r',    # Red\n",
    "    1: 'b',    # Blue\n",
    "    2: 'g',    # Green\n",
    "    3: 'c',    # Cyan\n",
    "    4: 'm',    # Magenta\n",
    "    5: 'y',    # Yellow\n",
    "    6: 'k',    # Black\n",
    "    7: 'orange',\n",
    "    8: 'purple',\n",
    "    9: 'brown',\n",
    "    10: 'pink'\n",
    "}"
   ]
  },
  {
   "cell_type": "code",
   "execution_count": null,
   "id": "fd6beb33-5763-43df-a774-4ae8c08f2d19",
   "metadata": {},
   "outputs": [],
   "source": [
    "\n",
    "pos = nx.spring_layout(G)\n",
    "print(pos)\n",
    "nx.draw(G, pos, with_labels=True)\n",
    "plt.show()"
   ]
  },
  {
   "cell_type": "code",
   "execution_count": null,
   "id": "b0dd86d9-8720-42ef-8d5e-861620af7a34",
   "metadata": {},
   "outputs": [],
   "source": [
    "color_dict = {\n",
    "    0: 'r',    # Red\n",
    "    1: 'b',    # Blue\n",
    "    2: 'g',    # Green\n",
    "    3: 'c',    # Cyan\n",
    "    4: 'm',    # Magenta\n",
    "    5: 'y',    # Yellow\n",
    "    6: 'k',    # Black\n",
    "    7: 'orange',\n",
    "    8: 'purple',\n",
    "    9: 'brown',\n",
    "    10: 'pink'\n",
    "}"
   ]
  },
  {
   "cell_type": "code",
   "execution_count": null,
   "id": "313789ad-3b65-4e46-8e57-1494e0abee7b",
   "metadata": {},
   "outputs": [],
   "source": [
    "F = nx.line_graph(G)\n",
    "pos2 = nx.spring_layout(F)\n",
    "nx.draw(F, pos2, with_labels=True)\n",
    "plt.show()"
   ]
  },
  {
   "cell_type": "code",
   "execution_count": null,
   "id": "435e5de0-31ba-4cca-923a-6558b72e1ce3",
   "metadata": {},
   "outputs": [],
   "source": [
    "edges_to_colors = nx.coloring.greedy_color(F, strategy=\"largest_first\")\n",
    "color_map_nodes = []\n",
    "color_map_edges = []\n",
    "for node in F:\n",
    "  color_map_nodes.append(edges_to_colors[node])\n",
    "\n",
    "for edge in G.edges():\n",
    "  color_map_edges.append(edges_to_colors[edge])\n",
    "pos2 = nx.spring_layout(F)\n",
    "nx.draw(F, pos2, with_labels=True, node_color=color_map_nodes)\n",
    "plt.show()\n",
    "max_degree = max(dict(G.degree()).values())\n",
    "print(f\"Number of colors needed {max([x for x in color_map_nodes]) + 1}\")\n",
    "print(f\"The maximum degree of the graph is {max_degree}\")\n"
   ]
  },
  {
   "cell_type": "code",
   "execution_count": null,
   "id": "bb183b54-6726-4d17-9e1a-0d6129bf5b80",
   "metadata": {},
   "outputs": [],
   "source": [
    "pos = nx.spring_layout(G)\n",
    "nx.draw(G, pos, with_labels=True, edge_color=color_map_edges)\n",
    "plt.show()"
   ]
  },
  {
   "cell_type": "code",
   "execution_count": null,
   "id": "3ec80be5-83c2-4221-92f2-29ac8de26a6a",
   "metadata": {},
   "outputs": [],
   "source": [
    "# Group edges by color\n",
    "edges_by_color = {}\n",
    "for edge, color in edges_to_colors.items():\n",
    "    if color not in edges_by_color:\n",
    "        edges_by_color[color] = []\n",
    "    edges_by_color[color].append(edge)\n",
    "\n",
    "# Create and visualize each subgraph for each color\n",
    "subgraphs = {}\n",
    "laplacians = {}\n",
    "\n",
    "for color, edges in edges_by_color.items():\n",
    "    # Create a new subgraph with all nodes from G but only the selected edges\n",
    "    subgraph = nx.Graph()\n",
    "    subgraph.add_nodes_from(G.nodes())  # Add all nodes\n",
    "    subgraph.add_edges_from(edges)      # Add only edges of this color\n",
    "    subgraphs[color] = subgraph\n",
    "    # Calculate the Laplacian matrix for the subgraph\n",
    "    laplacian_matrix = nx.laplacian_matrix(subgraph).toarray()\n",
    "    laplacians[color] = laplacian_matrix\n",
    "\n",
    "# Example to print details\n",
    "for color, subgraph in subgraphs.items():\n",
    "    print(f\"Subgraph for color {color}:\")\n",
    "    print(\"Nodes:\", subgraph.nodes())\n",
    "    print(\"Edges:\", subgraph.edges())"
   ]
  },
  {
   "cell_type": "code",
   "execution_count": null,
   "id": "99416827-b3c8-4293-a3a8-4899f370d560",
   "metadata": {},
   "outputs": [],
   "source": [
    "import cvxpy as cp\n",
    "from cvxpy.atoms.lambda_sum_smallest import lambda_sum_smallest"
   ]
  },
  {
   "cell_type": "code",
   "execution_count": null,
   "id": "3c4cd570-5bce-4d87-9e3b-77729357d066",
   "metadata": {},
   "outputs": [],
   "source": [
    "x_dif = 1/np.sqrt(2) * (np.random.randn(len(laplacians), 1) + 1j * np.random.randn(len(laplacians), 1))\n",
    "L_gap = np.real(x_dif * x_dif.conj()).reshape(-1)\n",
    "print(L_gap)"
   ]
  },
  {
   "cell_type": "code",
   "execution_count": null,
   "id": "a24ed388-0797-470e-9dc0-c73db0c259c9",
   "metadata": {},
   "outputs": [],
   "source": [
    "# Given problem parameters\n",
    "n = len(laplacians)  # Example dimension (replace with actual dimension)\n",
    "\n",
    "mu = 0.1  # Given parameter mu (adjust as needed)\n",
    "\n",
    "# Define variables\n",
    "#lambda_2 = cp.Variable()\n",
    "x = cp.Variable(n)  # x is a vector with `n` entries\n",
    "\n",
    "algebraic_connectivity = lambda_sum_smallest(sum(x[i] * laplacians[i] for i in range(n)), 2)\n",
    "L_gap_distance = sum(x[i] * L_gap[i] for i in range(n))\n",
    "alpha = 0.1"
   ]
  },
  {
   "cell_type": "code",
   "execution_count": null,
   "id": "4e1ce99d-3dd7-42fd-a87e-1b6aba6623b3",
   "metadata": {},
   "outputs": [],
   "source": [
    "# Define objective\n",
    "objective = cp.Maximize(algebraic_connectivity + alpha * L_gap_distance)"
   ]
  },
  {
   "cell_type": "code",
   "execution_count": null,
   "id": "bdad0b31-48a3-4904-8da9-f033dd259017",
   "metadata": {},
   "outputs": [],
   "source": [
    "\n",
    "# Define constraints\n",
    "constraints = [\n",
    "    x >= 0,          # Elementwise inequality 0 <= x\n",
    "    cp.sum(x) <= 0.5 * n, # Elementwise inequality x <= 1\n",
    "    x <= 1\n",
    "]\n",
    "\n",
    "# Formulate and solve the problem\n",
    "problem = cp.Problem(objective, constraints)\n",
    "problem.solve()\n",
    "\n",
    "# Output results\n",
    "print(\"Optimal value of lambda_2:\", problem.value)\n",
    "print(\"Optimal values of x:\", x.value)"
   ]
  },
  {
   "cell_type": "code",
   "execution_count": null,
   "id": "144f900e-7bfa-45bc-8719-679089ab0a97",
   "metadata": {},
   "outputs": [],
   "source": [
    "laplacian_matrix = nx.laplacian_matrix(G).toarray()\n",
    "# Compute eigenvalues\n",
    "eigenvalues = np.linalg.eigvals(laplacian_matrix)\n",
    "\n",
    "# Sort eigenvalues in descending order\n",
    "eigenvalues_sorted = np.sort(eigenvalues)\n",
    "\n",
    "# Get the second largest eigenvalue\n",
    "second_smallest_eigenvalue = eigenvalues_sorted[1]\n",
    "print(\"Second smallest eigenvalue:\", second_smallest_eigenvalue)\n"
   ]
  },
  {
   "cell_type": "code",
   "execution_count": null,
   "id": "c4cb0ac7-3a78-465e-a1e8-e174b1860e9b",
   "metadata": {},
   "outputs": [],
   "source": [
    "eigenvalues_sorted"
   ]
  },
  {
   "cell_type": "code",
   "execution_count": null,
   "id": "879389ea-8964-4676-88c7-3d276ec47ab1",
   "metadata": {},
   "outputs": [],
   "source": [
    "probabilities = x.value # Length n\n",
    "# Original list of elements\n",
    "elements = np.ones(len(probabilities), np.int32)\n",
    "\n",
    "# List of probabilities (same length as `elements`)\n",
    "probabilities = [0.1, 0.5, 0.7, 0.3]\n",
    "\n",
    "# Define the number of trials for each element (for example, 1 trial per element)\n",
    "n_trials = 1\n",
    "\n",
    "# Generate the new list with binomial sampling\n",
    "sampled_elements = [np.random.binomial(n_trials, p) * element for element, p in zip(elements, probabilities)]\n",
    "print(sampled_elements)\n"
   ]
  },
  {
   "cell_type": "code",
   "execution_count": null,
   "id": "8ebdd246-eb1b-4c2d-8986-c23b8016e154",
   "metadata": {},
   "outputs": [],
   "source": [
    "\n",
    "num_clients = 30\n",
    "\n",
    "adjacency_matrix = generate_random_adjacency_matrix(num_clients)\n",
    "# Subgraph sampling\n",
    "G = nx.from_numpy_array(adjacency_matrix)\n",
    "F = nx.line_graph(G)\n",
    "edges_to_colors = nx.coloring.greedy_color(F, strategy=\"largest_first\")\n",
    "color_map_nodes = []\n",
    "color_map_edges = []\n",
    "for node in F:\n",
    "    color_map_nodes.append(edges_to_colors[node])\n",
    "\n",
    "for edge in G.edges():\n",
    "    color_map_edges.append(edges_to_colors[edge])\n",
    "\n",
    "# Group edges by color\n",
    "edges_by_color = {}\n",
    "for edge, color in edges_to_colors.items():\n",
    "    if color not in edges_by_color:\n",
    "        edges_by_color[color] = []\n",
    "    edges_by_color[color].append(edge)\n",
    "\n",
    "# Create and visualize each subgraph for each color\n",
    "subgraphs = {}\n",
    "laplacians = {}\n",
    "\n",
    "for color, edges in edges_by_color.items():\n",
    "    # Create a new subgraph with all nodes from G but only the selected edges\n",
    "    subgraph = nx.Graph()\n",
    "    subgraph.add_nodes_from(G.nodes())  # Add all nodes\n",
    "    subgraph.add_edges_from(edges)      # Add only edges of this color\n",
    "    subgraphs[color] = subgraph\n",
    "    # Calculate the Laplacian matrix for the subgraph\n",
    "    laplacian_matrix = nx.laplacian_matrix(subgraph).toarray()\n",
    "    laplacians[color] = laplacian_matrix    "
   ]
  },
  {
   "cell_type": "code",
   "execution_count": null,
   "id": "187258c6-7237-4ef4-9d9e-da10ba7ad926",
   "metadata": {},
   "outputs": [],
   "source": [
    "sub_graphs = []\n",
    "G_merged = nx.Graph()\n",
    "for color, L in laplacians.items():\n",
    "    A = np.diag(np.diag(L)) - L \n",
    "    G_v = nx.from_numpy_array(A)\n",
    "    sub_graphs.append(G_v)\n",
    "    G_merged = nx.compose(G_merged, G_v)\n",
    "La = nx.laplacian_matrix(G_merged).toarray()\n",
    "Lb = nx.laplacian_matrix(G).toarray()\n",
    "\n"
   ]
  },
  {
   "cell_type": "code",
   "execution_count": null,
   "id": "abda0feb-4689-4292-80d4-258dc66604da",
   "metadata": {},
   "outputs": [],
   "source": []
  }
 ],
 "metadata": {
  "kernelspec": {
   "display_name": "Python 3 (ipykernel)",
   "language": "python",
   "name": "python3"
  },
  "language_info": {
   "codemirror_mode": {
    "name": "ipython",
    "version": 3
   },
   "file_extension": ".py",
   "mimetype": "text/x-python",
   "name": "python",
   "nbconvert_exporter": "python",
   "pygments_lexer": "ipython3",
   "version": "3.9.20"
  }
 },
 "nbformat": 4,
 "nbformat_minor": 5
}
